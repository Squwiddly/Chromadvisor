{
 "cells": [
  {
   "attachments": {},
   "cell_type": "markdown",
   "id": "45e0bfd3",
   "metadata": {},
   "source": [
    "# Chromadvisor\n",
    "\n",
    "## 1. Find functional groups function\n",
    "The goal of the find_functionnal_groups function is to take the smiles of  the molecule to analyze as input and draw out the different functional groups of the molecule, as well as the number of times it is present."
   ]
  }
 ],
 "metadata": {
  "kernelspec": {
   "display_name": "Python 3 (ipykernel)",
   "language": "python",
   "name": "python3"
  },
  "language_info": {
   "codemirror_mode": {
    "name": "ipython",
    "version": 3
   },
   "file_extension": ".py",
   "mimetype": "text/x-python",
   "name": "python",
   "nbconvert_exporter": "python",
   "pygments_lexer": "ipython3",
   "version": "3.11.5"
  }
 },
 "nbformat": 4,
 "nbformat_minor": 5
}
