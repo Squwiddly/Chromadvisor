{
 "cells": [
  {
   "cell_type": "markdown",
   "id": "45e0bfd3",
   "metadata": {},
   "source": [
    "# Chromadvisor\n",
    "The initial idea of this project was to start by identifying the functional groups of molecules. Then, we thought about displaying the molecule in 2D and 3D to give more information to the user. After that, we decided to calculate the polarity of the whole molecule based on the functional groups and give a recommendantion of the choice of eluent for a chromatography."
   ]
  },
  {
   "cell_type": "markdown",
   "id": "6392089c",
   "metadata": {},
   "source": [
    "## 1. Find functional groups function\n",
    "The goal of the **<font color=\"blue\">find_functional_groups</font>** function is to take the smiles of  the molecule to analyze as input and draw out the different functional groups of the molecule, as well as the number of times it is present.\n",
    "\n",
    "First, we wrote a function capable to detect the functional groups.\n",
    "\n",
    "We had to put the **<font color=\"green\">output if the input is incorrect</font>**  : \"Error : Impossible to convert the SMILES into a molecule.\"\n",
    "\n",
    "We then had to choose a **<font color=\"green\">database for the functional groups</font>** that can be detected. For each functional groups in the database found, we decided whether we wanted to keep them so they could be detected. We deleted those we found too complicated and those we didn’t see in our organic course.\n",
    "\n",
    "As we ran the function, we saw that the function **<font color=\"red\">detected too many functional groups</font>**. For example in the case of acetic acid, the function detected a carboxylic acid but also a hydroxyl and a ketone. In reality, this molecule only possess a carboxylic acid functional group, in fact composed of a ketone and hydroxyl but they should not be in the output of the function.\n",
    "\n",
    "To remedy this, we had to put an **<font color=\"green\">if statement</font>** such as : if there’s an carboxylic acid, there should not be a ketone and a hydroxyl. But some molecules possess a carboxylic acid AND a hydroxyl, or a ketone, such as salicylic acid. By just excluding the possibility of hydroxyl and ketone in the presence of carboxylic acid, the hydroxyl present would not be detected. We thus decided to use an if statement saying that once a functional group has been detected, its smiles is deleted from the smiles total of the molecule. Once it has been detected and deleted, the analysis of the functional groups continues, without detecting many times one specific functional groups. The list of functional groups used for the detection, also had to be modified for the function to work correctly : the **<font color=\"green\">groups had to be detected by order of “importance”</font>**. This means the functional groups with the “highest number of functional group in it” must be first in the list.\n",
    "\n",
    "Now to count the **<font color=\"green\">number of appearances of the functional group</font>** we used their positions. In order to **<font color=\"green\">detect the positions</font>**, the function detect the functional group and give all correspondence possible of the motif. Each correspondence returned is a tuple of atom indices. These tuples are stored in a dictionary under the key “position”. To count the number of times the functional is present, we then needed to count the number of tuples of atom indices. This number is stored in the dictionary under the key “count”.\n",
    "\n",
    "After the functional groups were found, we thought that it was annoying to **<font color=\"red\">always go to a web page to find the SMILES</font>** of the desired molecule. So, I wanted to simplify the user’s input, by asking them to put the name of the molecule in English rather that the SMILES molecule. So that, they did not have to go to the web to find the SMILES. Thus, we created a function called **<font color=\"blue\">get_smiles</font>**, which takes a molecule name in english and returns its SMILES. However, we wanted this to work for all molecules and not just a sample, which meant that writing them all one by one was out of the question. So, we used the **<font color=\"green\">pubchempy module</font>**, which is a Python library that provides an access to the PubChem database. The latter is a repository for chemical molecules and provides informations on their chemical properties for millions of compounds. Thus, using this module made the user's experience with our code much more pleasant.\n",
    "## Code couleur\n",
    "\n",
    "Texte bleu :\n",
    "<p style=\"color:blue;\">A REMPLIR</p>\n",
    "\n",
    "Texte vert :\n",
    "<p style=\"color:green;\">A REMPLIR</p>\n",
    "\n",
    "Texte rouge :\n",
    "<p style=\"color:red;\">A REMPLIR</p>\n",
    "\n",
    "Nom de la fonction et autres : Texte gras bleu\n",
    "**<font color=\"blue\">A REMPLIR</font>**\n",
    "\n",
    "Choses qu'on a faites (ex: trouver database, compter jsp quoi, problèmes réglés, ...) : Texte gras vert\n",
    "**<font color=\"green\">A REMPLIR</font>**\n",
    "\n",
    "Problèmes rencontrés : Texte gras rouge\n",
    "**<font color=\"red\">A REMPLIR</font>**\n"
   ]
  },
  {
   "cell_type": "code",
   "execution_count": null,
   "id": "edf65330-192f-4651-9064-98c226947d86",
   "metadata": {},
   "outputs": [],
   "source": [
    "import pubchempy as pcp\n",
    "\n",
    "def get_smiles(molecule_name):\n",
    "    try: # Attempt to get compounds from PubChem by name\n",
    "        results = pcp.get_compounds(molecule_name, 'name')\n",
    "        if results: # Extract the canonical SMILES representation from the first result\n",
    "            smiles = results[0].canonical_smiles\n",
    "            return smiles\n",
    "        else:\n",
    "            return None #\"Molecule not found. Please try another name.\"\n",
    "    except Exception as e:\n",
    "        return \"An error occurred: {}\".format(str(e)) # Print an error message if an exception occurs\n",
    "\n",
    "molecule_name = input(\"Put your desired molecule name (in English please) :\")\n",
    "print(get_smiles(molecule_name))"
   ]
  },
  {
   "cell_type": "markdown",
   "id": "39b10a86",
   "metadata": {},
   "source": [
    "## 2. Display the molecule in 2D\n",
    "As explained earlier, we wanted to give more informations to the user than just the recommendation eluent. So, we thought about offering a representation 2D of the molecule, so that even if the user does not know the molecule and just wanted to know which eluent to use, they also would see what the molecule look like.  \n",
    "This part went pretty smoothly, because the code is short. "
   ]
  },
  {
   "cell_type": "markdown",
   "id": "fb6b77ea",
   "metadata": {},
   "source": [
    "## 3. Display the molecule in 3D\n",
    "idéal = montrer la mol en 3D avec des vecteurs qui calculent la polarité"
   ]
  },
  {
   "cell_type": "markdown",
   "id": "306e489d",
   "metadata": {},
   "source": [
    "## 4. Polarity and eluent recommendation\n"
   ]
  },
  {
   "cell_type": "markdown",
   "id": "9d5ed62e",
   "metadata": {},
   "source": [
    "## 5. Interface tkinker\n",
    "The main challenge for me was definitely the interface. Indeed, using tkinker was new and near impossible due to all the variables that should be considered.\n",
    "I wanted an input interface, where the user could put its desired molecule in SMILES and a result interface, with all the provided information.\n",
    "\n",
    "-\tFaire un interface en paysage\n",
    "\n",
    "-\tPrendre toute la place de l’écran -> abandonner\n",
    "\n",
    "-\tModifier la taille du texte et la police\n",
    "\n",
    "-\tModifier la taille des étiquettes pour la où il y a le texte\n",
    "\n",
    "-\tLes mettre dans l’ordre\n",
    "\n",
    "-\t2d représention prend trop de place\n",
    "\n",
    "-\tPas réussi : mettre la molecule en 3D dans l’interface de résultats\n"
   ]
  },
  {
   "cell_type": "code",
   "execution_count": null,
   "id": "a6789487",
   "metadata": {},
   "outputs": [],
   "source": []
  },
  {
   "cell_type": "code",
   "execution_count": null,
   "id": "a88616e5",
   "metadata": {},
   "outputs": [],
   "source": []
  }
 ],
 "metadata": {
  "kernelspec": {
   "display_name": "rdkitinstall",
   "language": "python",
   "name": "rdkitinstall"
  },
  "language_info": {
   "codemirror_mode": {
    "name": "ipython",
    "version": 3
   },
   "file_extension": ".py",
   "mimetype": "text/x-python",
   "name": "python",
   "nbconvert_exporter": "python",
   "pygments_lexer": "ipython3",
   "version": "3.10.14"
  }
 },
 "nbformat": 4,
 Savoir quelle était la manière la plus adéquate pour exprimer la polarité d’une molécule. Au départ je voulais décrire la polarité de ma molécule à partir de son moment dipolaire.Pour cela j’aurais du utiliser un programme … Bref tou cela n’a pas fonctionné pour ordinateur. Heureusement j’ai remarqué que le moment dipolaire n’était pas le moyen optimal pour évaluer la polarité d’une molécule, le moment dipolaire est qqch de purement physique et mathématique. De son côté le logP est décrit à partir d’observation expérimentales et donc plus facile à transllater dans le cadre d’un travail pratique (chromatographie)
 "nbformat_minor": 5
}
