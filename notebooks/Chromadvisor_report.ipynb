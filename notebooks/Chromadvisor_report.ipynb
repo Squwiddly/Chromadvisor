{
 "cells": [
  {
   "cell_type": "markdown",
   "id": "45e0bfd3",
   "metadata": {},
   "source": [
    "# <center>Chromadvisor</center>\n",
    "## Motivation\n",
    "The initial idea of this project was to start by identifying the functional groups of molecules. Then, we thought about displaying the molecule in 2D and 3D to give more information to the user. After that, we decided to calculate the polarity of the whole molecule based on the functional groups and give a recommendation of the choice of eluent for a chromatography."
   ]
  },
  {
   "attachments": {},
   "cell_type": "markdown",
   "id": "6392089c",
   "metadata": {},
   "source": [
    "### 1. Find functional groups function\n",
    "The goal of the **<font color=\"blue\">find_functional_groups</font>** function is to take the smiles of  the molecule to analyze as input and draw out the different functional groups of the molecule, as well as the number of times it is present.\n",
    "\n",
    "First, we wrote a function capable to detect the functional groups.\n",
    "\n",
    "We had to put the **<font color=\"green\">output if the input is incorrect</font>**  : \"Error : Impossible to convert the SMILES into a molecule.\"\n",
    "\n",
    "We then had to choose a **<font color=\"green\">database for the functional groups</font>** that can be detected. For each functional groups in the database found, we decided whether we wanted to keep them so they could be detected. We deleted those we found too complicated and those we didn’t see in our organic course.\n",
    "\n",
    "As we ran the function, we saw that the function **<font color=\"red\">detected too many functional groups</font>**. For example in the case of acetic acid, the function detected a carboxylic acid but also a hydroxyl and a ketone. In reality, this molecule only possess a carboxylic acid functional group, in fact composed of a ketone and hydroxyl but they should not be in the output of the function.\n",
    "\n",
    "To remedy this, we had to put an **<font color=\"green\">if statement</font>** such as : if there’s an carboxylic acid, there should not be a ketone and a hydroxyl. But some molecules possess a carboxylic acid AND a hydroxyl, or a ketone, such as salicylic acid. By just excluding the possibility of hydroxyl and ketone in the presence of carboxylic acid, the hydroxyl present would not be detected. We thus decided to use an if statement saying that once a functional group has been detected, its smiles is deleted from the smiles total of the molecule. Once it has been detected and deleted, the analysis of the functional groups continues, without detecting many times one specific functional groups. The list of functional groups used for the detection, also had to be modified for the function to work correctly : the **<font color=\"green\">groups had to be detected by order of “importance”</font>**. This means the functional groups with the “highest number of functional group in it” must be first in the list.\n",
    "\n",
    "Now to count the **<font color=\"green\">number of appearances of the functional group</font>** we used their positions. In order to **<font color=\"green\">detect the positions</font>**, the function detect the functional group and give all correspondence possible of the motif. Each correspondence returned is a tuple of atom indices. These tuples are stored in a dictionary under the key “position”. To count the number of times the functional is present, we then needed to count the number of tuples of atom indices. This number is stored in the dictionary under the key “count”.\n",
    "\n",
    "Also in the case of ketone and phenol, the count had to be divided by two because two possibilities of positions were possible and thus **<font color=\"red\">two tuples were created</font>** for one phenol/ketone.\n",
    "\r\n",
    "The function then return the dictionary with the functional group’s name, its position  and the nmber of appearance.e\r\n",
    "\n",
    "After the functional groups were found, we thought that it was annoying to **<font color=\"red\">always go to a web page to find the SMILES</font>** of the desired molecule. So, I wanted to simplify the user’s input, by asking them to put the name of the molecule in English rather that the SMILES molecule. So that, they did not have to go to the web to find the SMILES. Thus, we created a function called **<font color=\"blue\">get_smiles</font>**, which takes a molecule name in english and returns its SMILES. However, we wanted this to work for all molecules and not just a sample, which meant that writing them all one by one was out of the question. So, we used the **<font color=\"green\">pubchempy module</font>**, which is a Python library that provides an access to the PubChem database. The latter is a repository for chemical molecules and provides informations on their chemical properties for millions of compounds. Thus, using this module made the user's experience with our code much more pleasant.\n",
    "## Code couleur\n",
    "\n",
    "Texte bleu :\n",
    "<p style=\"color:blue;\">A REMPLIR</p>\n",
    "\n",
    "Texte vert :\n",
    "<p style=\"color:green;\">A REMPLIR</p>\n",
    "\n",
    "Texte rouge :\n",
    "<p style=\"color:red;\">A REMPLIR</p>Nom de la fonction et autres : Texte gras bleu \n",
    "\n",
    "**<span style=\"color:blue;\">A REMPLIR</span>**\n",
    "\n",
    "Choses qu'on a faites (ex: trouver database, compter jsp quoi, problèmes réglés, ...) : Texte gras vert\n",
    "\n",
    "**<span style=\"color:green;\">A REMPLIR</span>**\n",
    "\n",
    "Problèmes rencontrés : Texte gras rouge\n",
    "\n",
    "**<span style=\"color:red;\">A REMPLIR</span>**\n"
   ]
  },
  {
   "cell_type": "code",
   "execution_count": 1,
   "id": "edf65330-192f-4651-9064-98c226947d86",
   "metadata": {},
   "outputs": [],
   "source": [
    "import pubchempy as pcp"
   ]
  },
  {
   "cell_type": "code",
   "execution_count": 2,
   "id": "f26ebb7f-da50-4f04-b573-7173bd68343e",
   "metadata": {},
   "outputs": [
    {
     "name": "stdin",
     "output_type": "stream",
     "text": [
      "Put your desired molecule name (in English please) : salicylic acid\n"
     ]
    },
    {
     "name": "stdout",
     "output_type": "stream",
     "text": [
      "C1=CC=C(C(=C1)C(=O)O)O\n"
     ]
    }
   ],
   "source": [
    "def get_smiles(molecule_name):\n",
    "    try: # Attempt to get compounds from PubChem by name\n",
    "        results = pcp.get_compounds(molecule_name, 'name')\n",
    "        if results: # Extract the canonical SMILES representation from the first result\n",
    "            smiles = results[0].canonical_smiles\n",
    "            return smiles\n",
    "        else:\n",
    "            return None #\"Molecule not found. Please try another name.\"\n",
    "    except Exception as e:\n",
    "        return \"An error occurred: {}\".format(str(e)) # Print an error message if an exception occurs\n",
    "\n",
    "molecule_name = input(\"Put your desired molecule name (in English please) :\")\n",
    "print(get_smiles(molecule_name))"
   ]
  },
  {
   "cell_type": "markdown",
   "id": "39b10a86",
   "metadata": {},
   "source": [
    "### 2. Display the molecule in 2D and 3D\n",
    "As explained earlier, we wanted to give more informations to the user than just the recommendation eluent. So, we thought about offering a representation 2D of the molecule, using the function **<font color=\"blue\">display_molecule_2d</font>**, so that even if the user does not know the molecule and just wanted to know which eluent to use, they also would see what the molecule look like.  \n",
    "This part went pretty smoothly, because the code is short. \n",
    "\n",
    "idéal = montrer la mol en 3D avec des vecteurs qui calculent la polarité"
   ]
  },
  {
   "cell_type": "code",
   "execution_count": 7,
   "id": "710e3e48-c721-406e-bc52-56720009022d",
   "metadata": {},
   "outputs": [],
   "source": [
    "import py3Dmol\n",
    "from rdkit import Chem\n",
    "from rdkit.Chem import AllChem\n",
    "from rdkit.Chem import Draw\n",
    "from rdkit.Chem import FunctionalGroups\n",
    "from rdkit.Chem import Crippen"
   ]
  },
  {
   "cell_type": "code",
   "execution_count": 8,
   "id": "85643d38-d6d8-4d5e-897b-74a521c538b4",
   "metadata": {},
   "outputs": [
    {
     "name": "stdin",
     "output_type": "stream",
     "text": [
      "Put your desired molecule name (in SMILES please) : C1=CC=C(C(=C1)C(=O)O)O\n"
     ]
    },
    {
     "data": {
      "application/3dmoljs_load.v0": "<div id=\"3dmolviewer_1716322811233467\"  style=\"position: relative; width: 400px; height: 400px;\">\n        <p id=\"3dmolwarning_1716322811233467\" style=\"background-color:#ffcccc;color:black\">3Dmol.js failed to load for some reason.  Please check your browser console for error messages.<br></p>\n        </div>\n<script>\n\nvar loadScriptAsync = function(uri){\n  return new Promise((resolve, reject) => {\n    //this is to ignore the existence of requirejs amd\n    var savedexports, savedmodule;\n    if (typeof exports !== 'undefined') savedexports = exports;\n    else exports = {}\n    if (typeof module !== 'undefined') savedmodule = module;\n    else module = {}\n\n    var tag = document.createElement('script');\n    tag.src = uri;\n    tag.async = true;\n    tag.onload = () => {\n        exports = savedexports;\n        module = savedmodule;\n        resolve();\n    };\n  var firstScriptTag = document.getElementsByTagName('script')[0];\n  firstScriptTag.parentNode.insertBefore(tag, firstScriptTag);\n});\n};\n\nif(typeof $3Dmolpromise === 'undefined') {\n$3Dmolpromise = null;\n  $3Dmolpromise = loadScriptAsync('https://cdnjs.cloudflare.com/ajax/libs/3Dmol/2.1.0/3Dmol-min.js');\n}\n\nvar viewer_1716322811233467 = null;\nvar warn = document.getElementById(\"3dmolwarning_1716322811233467\");\nif(warn) {\n    warn.parentNode.removeChild(warn);\n}\n$3Dmolpromise.then(function() {\nviewer_1716322811233467 = $3Dmol.createViewer(document.getElementById(\"3dmolviewer_1716322811233467\"),{backgroundColor:\"white\"});\nviewer_1716322811233467.zoomTo();\n\tviewer_1716322811233467.addModel(\"HETATM    1  C1  UNL     1      -1.444  -1.400   0.216  1.00  0.00           C  \\nHETATM    2  C2  UNL     1      -2.208  -0.243   0.067  1.00  0.00           C  \\nHETATM    3  C3  UNL     1      -1.580   0.990  -0.113  1.00  0.00           C  \\nHETATM    4  C4  UNL     1      -0.179   1.077  -0.146  1.00  0.00           C  \\nHETATM    5  C5  UNL     1       0.603  -0.093   0.004  1.00  0.00           C  \\nHETATM    6  C6  UNL     1      -0.049  -1.328   0.185  1.00  0.00           C  \\nHETATM    7  C7  UNL     1       2.088  -0.055  -0.024  1.00  0.00           C  \\nHETATM    8  O1  UNL     1       2.705   1.032  -0.184  1.00  0.00           O  \\nHETATM    9  O2  UNL     1       2.820  -1.231   0.128  1.00  0.00           O  \\nHETATM   10  O3  UNL     1       0.424   2.321  -0.328  1.00  0.00           O  \\nHETATM   11  H1  UNL     1      -1.933  -2.355   0.355  1.00  0.00           H  \\nHETATM   12  H2  UNL     1      -3.289  -0.301   0.092  1.00  0.00           H  \\nHETATM   13  H3  UNL     1      -2.183   1.882  -0.228  1.00  0.00           H  \\nHETATM   14  H4  UNL     1       0.517  -2.243   0.303  1.00  0.00           H  \\nHETATM   15  H5  UNL     1       3.832  -1.220   0.111  1.00  0.00           H  \\nHETATM   16  H6  UNL     1      -0.123   3.168  -0.437  1.00  0.00           H  \\nCONECT    1    2    2    6   11\\nCONECT    2    3   12\\nCONECT    3    4    4   13\\nCONECT    4    5   10\\nCONECT    5    6    6    7\\nCONECT    6   14\\nCONECT    7    8    8    9\\nCONECT    9   15\\nCONECT   10   16\\nEND\\n\",\"pdb\");\n\tviewer_1716322811233467.setStyle({\"stick\": {}});\n\tviewer_1716322811233467.zoomTo();\nviewer_1716322811233467.render();\n});\n</script>",
      "text/html": [
       "<div id=\"3dmolviewer_1716322811233467\"  style=\"position: relative; width: 400px; height: 400px;\">\n",
       "        <p id=\"3dmolwarning_1716322811233467\" style=\"background-color:#ffcccc;color:black\">3Dmol.js failed to load for some reason.  Please check your browser console for error messages.<br></p>\n",
       "        </div>\n",
       "<script>\n",
       "\n",
       "var loadScriptAsync = function(uri){\n",
       "  return new Promise((resolve, reject) => {\n",
       "    //this is to ignore the existence of requirejs amd\n",
       "    var savedexports, savedmodule;\n",
       "    if (typeof exports !== 'undefined') savedexports = exports;\n",
       "    else exports = {}\n",
       "    if (typeof module !== 'undefined') savedmodule = module;\n",
       "    else module = {}\n",
       "\n",
       "    var tag = document.createElement('script');\n",
       "    tag.src = uri;\n",
       "    tag.async = true;\n",
       "    tag.onload = () => {\n",
       "        exports = savedexports;\n",
       "        module = savedmodule;\n",
       "        resolve();\n",
       "    };\n",
       "  var firstScriptTag = document.getElementsByTagName('script')[0];\n",
       "  firstScriptTag.parentNode.insertBefore(tag, firstScriptTag);\n",
       "});\n",
       "};\n",
       "\n",
       "if(typeof $3Dmolpromise === 'undefined') {\n",
       "$3Dmolpromise = null;\n",
       "  $3Dmolpromise = loadScriptAsync('https://cdnjs.cloudflare.com/ajax/libs/3Dmol/2.1.0/3Dmol-min.js');\n",
       "}\n",
       "\n",
       "var viewer_1716322811233467 = null;\n",
       "var warn = document.getElementById(\"3dmolwarning_1716322811233467\");\n",
       "if(warn) {\n",
       "    warn.parentNode.removeChild(warn);\n",
       "}\n",
       "$3Dmolpromise.then(function() {\n",
       "viewer_1716322811233467 = $3Dmol.createViewer(document.getElementById(\"3dmolviewer_1716322811233467\"),{backgroundColor:\"white\"});\n",
       "viewer_1716322811233467.zoomTo();\n",
       "\tviewer_1716322811233467.addModel(\"HETATM    1  C1  UNL     1      -1.444  -1.400   0.216  1.00  0.00           C  \\nHETATM    2  C2  UNL     1      -2.208  -0.243   0.067  1.00  0.00           C  \\nHETATM    3  C3  UNL     1      -1.580   0.990  -0.113  1.00  0.00           C  \\nHETATM    4  C4  UNL     1      -0.179   1.077  -0.146  1.00  0.00           C  \\nHETATM    5  C5  UNL     1       0.603  -0.093   0.004  1.00  0.00           C  \\nHETATM    6  C6  UNL     1      -0.049  -1.328   0.185  1.00  0.00           C  \\nHETATM    7  C7  UNL     1       2.088  -0.055  -0.024  1.00  0.00           C  \\nHETATM    8  O1  UNL     1       2.705   1.032  -0.184  1.00  0.00           O  \\nHETATM    9  O2  UNL     1       2.820  -1.231   0.128  1.00  0.00           O  \\nHETATM   10  O3  UNL     1       0.424   2.321  -0.328  1.00  0.00           O  \\nHETATM   11  H1  UNL     1      -1.933  -2.355   0.355  1.00  0.00           H  \\nHETATM   12  H2  UNL     1      -3.289  -0.301   0.092  1.00  0.00           H  \\nHETATM   13  H3  UNL     1      -2.183   1.882  -0.228  1.00  0.00           H  \\nHETATM   14  H4  UNL     1       0.517  -2.243   0.303  1.00  0.00           H  \\nHETATM   15  H5  UNL     1       3.832  -1.220   0.111  1.00  0.00           H  \\nHETATM   16  H6  UNL     1      -0.123   3.168  -0.437  1.00  0.00           H  \\nCONECT    1    2    2    6   11\\nCONECT    2    3   12\\nCONECT    3    4    4   13\\nCONECT    4    5   10\\nCONECT    5    6    6    7\\nCONECT    6   14\\nCONECT    7    8    8    9\\nCONECT    9   15\\nCONECT   10   16\\nEND\\n\",\"pdb\");\n",
       "\tviewer_1716322811233467.setStyle({\"stick\": {}});\n",
       "\tviewer_1716322811233467.zoomTo();\n",
       "viewer_1716322811233467.render();\n",
       "});\n",
       "</script>"
      ]
     },
     "metadata": {},
     "output_type": "display_data"
    }
   ],
   "source": [
    "def generate_3d_structure(smiles):\n",
    "    \"\"\"\n",
    "    Generate the 3D structure of a molecule and display it in a 3D viewer.\n",
    "\n",
    "    Args:\n",
    "    smiles (str): The SMILES representation of the molecule.\n",
    "    \"\"\"\n",
    "    # Convert the SMILES in an molecular RDKit\n",
    "    mol = Chem.MolFromSmiles(smiles)\n",
    "    if mol is None:\n",
    "        print(\"Error : Impossible to convert the SMILES into a molecule.\")\n",
    "        return None\n",
    "    # Generate a 3D conformation\n",
    "    mol = Chem.AddHs(mol)\n",
    "    AllChem.EmbedMolecule(mol, randomSeed=42)\n",
    "    AllChem.UFFOptimizeMolecule(mol)\n",
    "    # Convert the molecule in format PDB\n",
    "    pdb = Chem.MolToPDBBlock(mol)\n",
    "    # Visualise the molecule in 3D\n",
    "    viewer = py3Dmol.view(width=400, height=400)\n",
    "    viewer.addModel(pdb, 'pdb')\n",
    "    viewer.setStyle({'stick': {}})\n",
    "    viewer.zoomTo()\n",
    "    # Display the visualisator in the notebook\n",
    "    return viewer.show()\n",
    "\n",
    "SMILES = input(\"Put your desired molecule name (in SMILES please) :\")\n",
    "generate_3d_structure(SMILES)"
   ]
  },
  {
   "cell_type": "code",
   "execution_count": 10,
   "id": "6fa1e1a1-23f5-48f0-b08c-e8bd51308592",
   "metadata": {},
   "outputs": [
    {
     "name": "stdin",
     "output_type": "stream",
     "text": [
      "Put your desired molecule name (in SMILES please) : C1=CC=C(C(=C1)C(=O)O)O\n"
     ]
    },
    {
     "data": {
      "image/jpeg": "[encoded data removed]",
      "image/png": "[encoded data removed]",
      "text/plain": [
       "<PIL.PngImagePlugin.PngImageFile image mode=RGB size=300x300>"
      ]
     },
     "metadata": {},
     "output_type": "display_data"
    }
   ],
   "source": [
    "def display_molecule_2d(smiles):\n",
    "    mol = Chem.MolFromSmiles(smiles)\n",
    "    if mol is None:\n",
    "        print(\"Error\", \"Impossible to convert the SMILES into a molecule.\")\n",
    "        return\n",
    "    img = Draw.MolToImage(mol)\n",
    "    display(img)\n",
    "\n",
    "SMILES = input(\"Put your desired molecule name (in SMILES please) :\")\n",
    "display_molecule_2d(SMILES)"
   ]
  },
  {
   "cell_type": "markdown",
   "id": "306e489d",
   "metadata": {},
   "source": [
    "### 4. Polarity and eluent recommendation\n",
    "Partie de Coralie"
   ]
  },
  {
   "cell_type": "markdown",
   "id": "9d5ed62e",
   "metadata": {},
   "source": [
    "### 5. Interface tkinter\n",
    "One of the main challenges for this project was definitely the interface. We wanted to code an input interface, where the user could put its desired molecule in SMILES and a result interface, with all the provided information.\n",
    "To do that we used **<font color=\"green\">tkinter</font>**, which is the standard Pyhton library for creating graphical user interface (GUIs). Using this, we could create windows, buttons and error messages.\n",
    "\n",
    "First of all, we had to define another function named **<font color=\"blue\">on_submit</font>**, so that when the user submitted their desired molecule, the results appeared directly with a submit button.\n",
    "In the first part of this function is written the code as if we wanted to just print the result without interface. So all the functions were called in this part in order to : get the smiles of the desired molecule, find its functional groups, display the 2D representation calculate its log(P) and finally give an eluent recommendation.\n",
    "\n",
    "Then, came the part of actually creating an interface.\n",
    "At first, we created a result_window with the title \"Molecule Analysis Result\" using the function **<font color=\"blue\">tk.Toplevel</font>** and **<font color=\"blue\">ttk.Frame</font>**, where all the results are displayed. Each result had its own label using the function **<font color=\"blue\">ttk.Label</font>**. Little details as the font were done using the **<font color=\"blue\">ttk.Style</font>** function.\n",
    "\n",
    "Secondly, the entry window was done using the **<font color=\"blue\">tk.Tk</font>** and **<font color=\"blue\">ttk_Entry</font>** functions. Then, the \"submit button\" was done using the **<font color=\"blue\">ttk.Button</font>** function. However, after running the code multiple times, we found it annoying to always **<font color=\"red\">click the button</font>** when working from a laptop. So, we bind the key \"Enter\" of the keyboard to the submit function using the function, so that it would be easier and faster for the user.\n",
    "\n",
    "That should have been it, but we thought about making the interface even cleaner that just the basic setup. Moreover, when adding the display in 2D of the molecule, it **<font color=\"red\">did not appear entirely on the screen</font>** because the interface was too small. So, we made the interface to be in **<font color=\"green\">landscape</font>** with the informations on the functional groups, polarity and eluent in the left side and the image alone in the right side. This way, it was way cleaner.  \n",
    "We also thought about modifying the interface so that when the user submitted their desired molecule, the result window was the size of the whole screen, using the module **<font color=\"green\">ctypes</font>**. However, we abandonned the idea because it was **<font color=\"red\">too big</font>** for the infromations that the code provided.\n",
    "\n",
    "Moreover, the functional groups' label was configured at first to have certain dimensions like the ones of a box, but we changed it to have the size of the number of functional groups found in the submitted molecule. So that, the label was just the list of the various functional groups and there were no **<font color=\"red\">blank space</font>** before or after the list.\n",
    "\n",
    "One thing we did not succeed, was to **<font color=\"red\">put the 3D display of the molecule in the tkinter interface</font>**. We tried doing the same as for the 2D display but it did not work. This could maybe be the same problem as to why the 3D reprensation of the submitted molecule does not appear when using a file.py but only when using a file.ipynb. Maybe the py3Dmol is only compatible with Jupyter Notebook's files. We really do not know why it did not work."
   ]
  },
  {
   "cell_type": "markdown",
   "id": "f451864f-2002-4ede-b1d1-e526a6d68fdc",
   "metadata": {},
   "source": [
    "### 6. Tests\n",
    "blablabla"
   ]
  },
  {
   "cell_type": "code",
   "execution_count": null,
   "id": "a88616e5",
   "metadata": {},
   "outputs": [],
   "source": []
  }
 ],
 "metadata": {
  "kernelspec": {
   "display_name": "Python 3 (ipykernel)",
   "language": "python",
   "name": "python3"
  },
  "language_info": {
   "codemirror_mode": {
    "name": "ipython",
    "version": 3
   },
   "file_extension": ".py",
   "mimetype": "text/x-python",
   "name": "python",
   "nbconvert_exporter": "python",
   "pygments_lexer": "ipython3",
   "version": "3.10.14"
  }
 },
 "nbformat": 4,
 "nbformat_minor": 5
}
