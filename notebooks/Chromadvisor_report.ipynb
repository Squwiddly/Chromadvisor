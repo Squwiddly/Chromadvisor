{
 "cells": [
  {
   "attachments": {},
   "cell_type": "markdown",
   "id": "45e0bfd3",
   "metadata": {},
   "source": [
    "# Chromadvisor\n",
    "\n",
    "## 1. Find functional groups function\n",
    "The goal of the **<font color=\"blue\">find_functionnal_groups</font>** function is to take the smiles of  the molecule to analyze as input and draw out the different functional groups of the molecule, as well as the number of times it is present.\n",
    "\n",
    "First, we wrote a function capable to detect the functional groups.\n",
    "\n",
    "We had to put the **<font color=\"green\">output if the input is incorrect</font>**  : \"Error : Impossible to convert the SMILES into a molecule.\"\n",
    "\n",
    "We then had to choose a **<font color=\"green\">database for the functional groups</font>**> that can be detected. For each functional groups in the database found, we decided whether we wanted to keep them so they could be detected. We deleted those we found too complicated and those we didn’t see in our organic course.\n",
    "\n",
    "\n",
    "<p style=\"color:red;\">Texte rouge</p>\n",
    "\n",
    "<span style=\"color:green; font-weight:bold;\">First</span>\n",
    "\n",
    "<span style=\"color:blue; font-weight:bold;\">find_functionnal_groups</span>\n",
    "\n",
    "**<font color=\"green\">database for the functional groups</font>**>.\r\n"
   ]
  },
  {
   "cell_type": "code",
   "execution_count": null,
   "id": "edf65330-192f-4651-9064-98c226947d86",
   "metadata": {},
   "outputs": [],
   "source": []
  }
 ],
 "metadata": {
  "kernelspec": {
   "display_name": "Python 3 (ipykernel)",
   "language": "python",
   "name": "python3"
  },
  "language_info": {
   "codemirror_mode": {
    "name": "ipython",
    "version": 3
   },
   "file_extension": ".py",
   "mimetype": "text/x-python",
   "name": "python",
   "nbconvert_exporter": "python",
   "pygments_lexer": "ipython3",
   "version": "3.11.5"
  }
 },
 "nbformat": 4,
 "nbformat_minor": 5
}
