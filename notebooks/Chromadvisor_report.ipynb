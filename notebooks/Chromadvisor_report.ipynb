{
 "cells": [
  {
   "cell_type": "markdown",
   "id": "45e0bfd3",
   "metadata": {},
   "source": [
    "# Chromadvisor\n",
    "\n",
    "## 1. Find functional groups\n",
    "\n",
    "dsjfhkjcbx"
   ]
  }
 ],
 "metadata": {
  "kernelspec": {
   "display_name": "rdkitinstall",
   "language": "python",
   "name": "rdkitinstall"
  },
  "language_info": {
   "codemirror_mode": {
    "name": "ipython",
    "version": 3
   },
   "file_extension": ".py",
   "mimetype": "text/x-python",
   "name": "python",
   "nbconvert_exporter": "python",
   "pygments_lexer": "ipython3",
   "version": "3.10.14"
  }
 },
 "nbformat": 4,
 "nbformat_minor": 5
}
